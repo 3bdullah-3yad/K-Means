{
 "cells": [
  {
   "cell_type": "markdown",
   "id": "a29d6808",
   "metadata": {},
   "source": [
    "# <span style=\"color:red\">++++++++++++++++++++++Ayad++++++++++++++++++++++</span>"
   ]
  },
  {
   "cell_type": "markdown",
   "id": "c85ac8bd",
   "metadata": {},
   "source": [
    "# <span style=\"color:blue\">1- Data</span>"
   ]
  },
  {
   "cell_type": "code",
   "execution_count": 1,
   "id": "99d98b5a",
   "metadata": {},
   "outputs": [],
   "source": [
    "import pandas as pd"
   ]
  },
  {
   "cell_type": "code",
   "execution_count": 2,
   "id": "c73ef4fc",
   "metadata": {},
   "outputs": [
    {
     "data": {
      "text/html": [
       "<div>\n",
       "<style scoped>\n",
       "    .dataframe tbody tr th:only-of-type {\n",
       "        vertical-align: middle;\n",
       "    }\n",
       "\n",
       "    .dataframe tbody tr th {\n",
       "        vertical-align: top;\n",
       "    }\n",
       "\n",
       "    .dataframe thead th {\n",
       "        text-align: right;\n",
       "    }\n",
       "</style>\n",
       "<table border=\"1\" class=\"dataframe\">\n",
       "  <thead>\n",
       "    <tr style=\"text-align: right;\">\n",
       "      <th></th>\n",
       "      <th>0</th>\n",
       "      <th>1</th>\n",
       "      <th>2</th>\n",
       "      <th>3</th>\n",
       "      <th>4</th>\n",
       "      <th>5</th>\n",
       "      <th>6</th>\n",
       "      <th>7</th>\n",
       "    </tr>\n",
       "  </thead>\n",
       "  <tbody>\n",
       "    <tr>\n",
       "      <th>0</th>\n",
       "      <td>-2.084839</td>\n",
       "      <td>-0.471673</td>\n",
       "      <td>-0.955542</td>\n",
       "      <td>-0.567288</td>\n",
       "      <td>-0.953226</td>\n",
       "      <td>-1.510386</td>\n",
       "      <td>0.921728</td>\n",
       "      <td>0.437954</td>\n",
       "    </tr>\n",
       "    <tr>\n",
       "      <th>1</th>\n",
       "      <td>0.003700</td>\n",
       "      <td>-0.999118</td>\n",
       "      <td>0.202003</td>\n",
       "      <td>1.612001</td>\n",
       "      <td>-0.375642</td>\n",
       "      <td>0.378518</td>\n",
       "      <td>0.113693</td>\n",
       "      <td>1.718011</td>\n",
       "    </tr>\n",
       "    <tr>\n",
       "      <th>2</th>\n",
       "      <td>-1.456240</td>\n",
       "      <td>0.483522</td>\n",
       "      <td>-0.508605</td>\n",
       "      <td>-0.316406</td>\n",
       "      <td>-1.695560</td>\n",
       "      <td>-1.943310</td>\n",
       "      <td>0.299486</td>\n",
       "      <td>0.147370</td>\n",
       "    </tr>\n",
       "    <tr>\n",
       "      <th>3</th>\n",
       "      <td>-1.595524</td>\n",
       "      <td>-0.219744</td>\n",
       "      <td>1.039403</td>\n",
       "      <td>0.381587</td>\n",
       "      <td>0.109094</td>\n",
       "      <td>-0.155068</td>\n",
       "      <td>0.156054</td>\n",
       "      <td>0.007314</td>\n",
       "    </tr>\n",
       "    <tr>\n",
       "      <th>4</th>\n",
       "      <td>0.995277</td>\n",
       "      <td>-1.517259</td>\n",
       "      <td>-0.101198</td>\n",
       "      <td>1.415742</td>\n",
       "      <td>-0.054356</td>\n",
       "      <td>0.611216</td>\n",
       "      <td>0.196938</td>\n",
       "      <td>0.641809</td>\n",
       "    </tr>\n",
       "  </tbody>\n",
       "</table>\n",
       "</div>"
      ],
      "text/plain": [
       "          0         1         2         3         4         5         6  \\\n",
       "0 -2.084839 -0.471673 -0.955542 -0.567288 -0.953226 -1.510386  0.921728   \n",
       "1  0.003700 -0.999118  0.202003  1.612001 -0.375642  0.378518  0.113693   \n",
       "2 -1.456240  0.483522 -0.508605 -0.316406 -1.695560 -1.943310  0.299486   \n",
       "3 -1.595524 -0.219744  1.039403  0.381587  0.109094 -0.155068  0.156054   \n",
       "4  0.995277 -1.517259 -0.101198  1.415742 -0.054356  0.611216  0.196938   \n",
       "\n",
       "          7  \n",
       "0  0.437954  \n",
       "1  1.718011  \n",
       "2  0.147370  \n",
       "3  0.007314  \n",
       "4  0.641809  "
      ]
     },
     "execution_count": 2,
     "metadata": {},
     "output_type": "execute_result"
    }
   ],
   "source": [
    "data = pd.read_csv(r'D:\\Projects\\Machine Learning\\Unsupervised Learning\\data.csv')\n",
    "data.head()"
   ]
  },
  {
   "cell_type": "code",
   "execution_count": 3,
   "id": "04fdf115",
   "metadata": {},
   "outputs": [
    {
     "data": {
      "text/plain": [
       "(1309, 8)"
      ]
     },
     "execution_count": 3,
     "metadata": {},
     "output_type": "execute_result"
    }
   ],
   "source": [
    "data.shape"
   ]
  },
  {
   "cell_type": "code",
   "execution_count": 4,
   "id": "3e07929b",
   "metadata": {},
   "outputs": [],
   "source": [
    "import matplotlib.pyplot as plt\n",
    "plt.style.use('dark_background')"
   ]
  },
  {
   "cell_type": "code",
   "execution_count": 5,
   "id": "683ec70b",
   "metadata": {},
   "outputs": [
    {
     "data": {
      "image/png": "[encoded data removed]",
      "text/plain": [
       "<Figure size 432x288 with 1 Axes>"
      ]
     },
     "metadata": {},
     "output_type": "display_data"
    }
   ],
   "source": [
    "plt.scatter(data.iloc[:, 0].values, data.iloc[:, 1].values, c = 'm', alpha=0.8)\n",
    "plt.show()"
   ]
  },
  {
   "cell_type": "markdown",
   "id": "6e6fc3ff",
   "metadata": {},
   "source": [
    "# <span style=\"color:blue\">2- GMM</span>"
   ]
  },
  {
   "cell_type": "code",
   "execution_count": 6,
   "id": "df3019de",
   "metadata": {},
   "outputs": [],
   "source": [
    "from sklearn.mixture import GaussianMixture"
   ]
  },
  {
   "cell_type": "code",
   "execution_count": 7,
   "id": "763a62ce",
   "metadata": {},
   "outputs": [],
   "source": [
    "X = data.iloc[:, 0:2]"
   ]
  },
  {
   "cell_type": "code",
   "execution_count": 38,
   "id": "4aa2a169",
   "metadata": {},
   "outputs": [],
   "source": [
    "gm = GaussianMixture(n_components = 4)"
   ]
  },
  {
   "cell_type": "code",
   "execution_count": 39,
   "id": "29026448",
   "metadata": {},
   "outputs": [],
   "source": [
    "gm.fit(X)\n",
    "labels = gm.predict(X)"
   ]
  },
  {
   "cell_type": "code",
   "execution_count": 40,
   "id": "3dd22700",
   "metadata": {},
   "outputs": [],
   "source": [
    "colors = ['yellow', 'green', 'red', 'blue']"
   ]
  },
  {
   "cell_type": "code",
   "execution_count": 41,
   "id": "2696c757",
   "metadata": {},
   "outputs": [
    {
     "data": {
      "image/png": "[encoded data removed]",
      "text/plain": [
       "<Figure size 432x288 with 1 Axes>"
      ]
     },
     "metadata": {},
     "output_type": "display_data"
    }
   ],
   "source": [
    "plt.scatter(X['0'], X['1'], c=labels,\n",
    "            cmap=plt.get_cmap('viridis'))\n",
    "        \n",
    "plt.show()"
   ]
  },
  {
   "cell_type": "code",
   "execution_count": 42,
   "id": "189934ee",
   "metadata": {},
   "outputs": [
    {
     "data": {
      "text/plain": [
       "0.5731395003220806"
      ]
     },
     "execution_count": 42,
     "metadata": {},
     "output_type": "execute_result"
    }
   ],
   "source": [
    "from sklearn.metrics import silhouette_score\n",
    "silhouette_score(X, labels)"
   ]
  },
  {
   "cell_type": "markdown",
   "id": "61597aa0",
   "metadata": {},
   "source": [
    "# <span style=\"color:blue\">3- Concatenate the labels with the data</span>"
   ]
  },
  {
   "cell_type": "code",
   "execution_count": 14,
   "id": "de5578d1",
   "metadata": {},
   "outputs": [
    {
     "data": {
      "text/html": [
       "<div>\n",
       "<style scoped>\n",
       "    .dataframe tbody tr th:only-of-type {\n",
       "        vertical-align: middle;\n",
       "    }\n",
       "\n",
       "    .dataframe tbody tr th {\n",
       "        vertical-align: top;\n",
       "    }\n",
       "\n",
       "    .dataframe thead th {\n",
       "        text-align: right;\n",
       "    }\n",
       "</style>\n",
       "<table border=\"1\" class=\"dataframe\">\n",
       "  <thead>\n",
       "    <tr style=\"text-align: right;\">\n",
       "      <th></th>\n",
       "      <th>Labels</th>\n",
       "    </tr>\n",
       "  </thead>\n",
       "  <tbody>\n",
       "    <tr>\n",
       "      <th>0</th>\n",
       "      <td>0</td>\n",
       "    </tr>\n",
       "    <tr>\n",
       "      <th>1</th>\n",
       "      <td>1</td>\n",
       "    </tr>\n",
       "    <tr>\n",
       "      <th>2</th>\n",
       "      <td>0</td>\n",
       "    </tr>\n",
       "    <tr>\n",
       "      <th>3</th>\n",
       "      <td>0</td>\n",
       "    </tr>\n",
       "    <tr>\n",
       "      <th>4</th>\n",
       "      <td>1</td>\n",
       "    </tr>\n",
       "    <tr>\n",
       "      <th>...</th>\n",
       "      <td>...</td>\n",
       "    </tr>\n",
       "    <tr>\n",
       "      <th>1304</th>\n",
       "      <td>0</td>\n",
       "    </tr>\n",
       "    <tr>\n",
       "      <th>1305</th>\n",
       "      <td>2</td>\n",
       "    </tr>\n",
       "    <tr>\n",
       "      <th>1306</th>\n",
       "      <td>3</td>\n",
       "    </tr>\n",
       "    <tr>\n",
       "      <th>1307</th>\n",
       "      <td>2</td>\n",
       "    </tr>\n",
       "    <tr>\n",
       "      <th>1308</th>\n",
       "      <td>0</td>\n",
       "    </tr>\n",
       "  </tbody>\n",
       "</table>\n",
       "<p>1309 rows × 1 columns</p>\n",
       "</div>"
      ],
      "text/plain": [
       "      Labels\n",
       "0          0\n",
       "1          1\n",
       "2          0\n",
       "3          0\n",
       "4          1\n",
       "...      ...\n",
       "1304       0\n",
       "1305       2\n",
       "1306       3\n",
       "1307       2\n",
       "1308       0\n",
       "\n",
       "[1309 rows x 1 columns]"
      ]
     },
     "execution_count": 14,
     "metadata": {},
     "output_type": "execute_result"
    }
   ],
   "source": [
    "df = pd.DataFrame(labels, columns = ['Labels'])\n",
    "df"
   ]
  },
  {
   "cell_type": "code",
   "execution_count": 15,
   "id": "ec0f1002",
   "metadata": {},
   "outputs": [
    {
     "data": {
      "text/html": [
       "<div>\n",
       "<style scoped>\n",
       "    .dataframe tbody tr th:only-of-type {\n",
       "        vertical-align: middle;\n",
       "    }\n",
       "\n",
       "    .dataframe tbody tr th {\n",
       "        vertical-align: top;\n",
       "    }\n",
       "\n",
       "    .dataframe thead th {\n",
       "        text-align: right;\n",
       "    }\n",
       "</style>\n",
       "<table border=\"1\" class=\"dataframe\">\n",
       "  <thead>\n",
       "    <tr style=\"text-align: right;\">\n",
       "      <th></th>\n",
       "      <th>0</th>\n",
       "      <th>1</th>\n",
       "      <th>2</th>\n",
       "      <th>3</th>\n",
       "      <th>4</th>\n",
       "      <th>5</th>\n",
       "      <th>6</th>\n",
       "      <th>7</th>\n",
       "      <th>Labels</th>\n",
       "    </tr>\n",
       "  </thead>\n",
       "  <tbody>\n",
       "    <tr>\n",
       "      <th>0</th>\n",
       "      <td>-2.084839</td>\n",
       "      <td>-0.471673</td>\n",
       "      <td>-0.955542</td>\n",
       "      <td>-0.567288</td>\n",
       "      <td>-0.953226</td>\n",
       "      <td>-1.510386</td>\n",
       "      <td>0.921728</td>\n",
       "      <td>0.437954</td>\n",
       "      <td>0</td>\n",
       "    </tr>\n",
       "    <tr>\n",
       "      <th>1</th>\n",
       "      <td>0.003700</td>\n",
       "      <td>-0.999118</td>\n",
       "      <td>0.202003</td>\n",
       "      <td>1.612001</td>\n",
       "      <td>-0.375642</td>\n",
       "      <td>0.378518</td>\n",
       "      <td>0.113693</td>\n",
       "      <td>1.718011</td>\n",
       "      <td>1</td>\n",
       "    </tr>\n",
       "    <tr>\n",
       "      <th>2</th>\n",
       "      <td>-1.456240</td>\n",
       "      <td>0.483522</td>\n",
       "      <td>-0.508605</td>\n",
       "      <td>-0.316406</td>\n",
       "      <td>-1.695560</td>\n",
       "      <td>-1.943310</td>\n",
       "      <td>0.299486</td>\n",
       "      <td>0.147370</td>\n",
       "      <td>0</td>\n",
       "    </tr>\n",
       "    <tr>\n",
       "      <th>3</th>\n",
       "      <td>-1.595524</td>\n",
       "      <td>-0.219744</td>\n",
       "      <td>1.039403</td>\n",
       "      <td>0.381587</td>\n",
       "      <td>0.109094</td>\n",
       "      <td>-0.155068</td>\n",
       "      <td>0.156054</td>\n",
       "      <td>0.007314</td>\n",
       "      <td>0</td>\n",
       "    </tr>\n",
       "    <tr>\n",
       "      <th>4</th>\n",
       "      <td>0.995277</td>\n",
       "      <td>-1.517259</td>\n",
       "      <td>-0.101198</td>\n",
       "      <td>1.415742</td>\n",
       "      <td>-0.054356</td>\n",
       "      <td>0.611216</td>\n",
       "      <td>0.196938</td>\n",
       "      <td>0.641809</td>\n",
       "      <td>1</td>\n",
       "    </tr>\n",
       "    <tr>\n",
       "      <th>...</th>\n",
       "      <td>...</td>\n",
       "      <td>...</td>\n",
       "      <td>...</td>\n",
       "      <td>...</td>\n",
       "      <td>...</td>\n",
       "      <td>...</td>\n",
       "      <td>...</td>\n",
       "      <td>...</td>\n",
       "      <td>...</td>\n",
       "    </tr>\n",
       "    <tr>\n",
       "      <th>1304</th>\n",
       "      <td>-0.862703</td>\n",
       "      <td>0.104828</td>\n",
       "      <td>1.984113</td>\n",
       "      <td>-2.026618</td>\n",
       "      <td>-1.723234</td>\n",
       "      <td>1.355618</td>\n",
       "      <td>0.019176</td>\n",
       "      <td>0.361044</td>\n",
       "      <td>0</td>\n",
       "    </tr>\n",
       "    <tr>\n",
       "      <th>1305</th>\n",
       "      <td>0.299519</td>\n",
       "      <td>2.404711</td>\n",
       "      <td>-0.473917</td>\n",
       "      <td>0.539437</td>\n",
       "      <td>0.144996</td>\n",
       "      <td>1.079460</td>\n",
       "      <td>-0.593131</td>\n",
       "      <td>0.062784</td>\n",
       "      <td>2</td>\n",
       "    </tr>\n",
       "    <tr>\n",
       "      <th>1306</th>\n",
       "      <td>1.983708</td>\n",
       "      <td>-2.251345</td>\n",
       "      <td>-0.891493</td>\n",
       "      <td>0.934429</td>\n",
       "      <td>0.553115</td>\n",
       "      <td>1.194912</td>\n",
       "      <td>0.344667</td>\n",
       "      <td>-1.039349</td>\n",
       "      <td>3</td>\n",
       "    </tr>\n",
       "    <tr>\n",
       "      <th>1307</th>\n",
       "      <td>0.369343</td>\n",
       "      <td>3.529447</td>\n",
       "      <td>-0.542355</td>\n",
       "      <td>-1.130391</td>\n",
       "      <td>0.468369</td>\n",
       "      <td>-0.998843</td>\n",
       "      <td>0.550265</td>\n",
       "      <td>0.041131</td>\n",
       "      <td>2</td>\n",
       "    </tr>\n",
       "    <tr>\n",
       "      <th>1308</th>\n",
       "      <td>-2.118941</td>\n",
       "      <td>-0.456731</td>\n",
       "      <td>-1.179383</td>\n",
       "      <td>-0.667595</td>\n",
       "      <td>-1.091675</td>\n",
       "      <td>-1.680951</td>\n",
       "      <td>0.895348</td>\n",
       "      <td>0.496857</td>\n",
       "      <td>0</td>\n",
       "    </tr>\n",
       "  </tbody>\n",
       "</table>\n",
       "<p>1309 rows × 9 columns</p>\n",
       "</div>"
      ],
      "text/plain": [
       "             0         1         2         3         4         5         6  \\\n",
       "0    -2.084839 -0.471673 -0.955542 -0.567288 -0.953226 -1.510386  0.921728   \n",
       "1     0.003700 -0.999118  0.202003  1.612001 -0.375642  0.378518  0.113693   \n",
       "2    -1.456240  0.483522 -0.508605 -0.316406 -1.695560 -1.943310  0.299486   \n",
       "3    -1.595524 -0.219744  1.039403  0.381587  0.109094 -0.155068  0.156054   \n",
       "4     0.995277 -1.517259 -0.101198  1.415742 -0.054356  0.611216  0.196938   \n",
       "...        ...       ...       ...       ...       ...       ...       ...   \n",
       "1304 -0.862703  0.104828  1.984113 -2.026618 -1.723234  1.355618  0.019176   \n",
       "1305  0.299519  2.404711 -0.473917  0.539437  0.144996  1.079460 -0.593131   \n",
       "1306  1.983708 -2.251345 -0.891493  0.934429  0.553115  1.194912  0.344667   \n",
       "1307  0.369343  3.529447 -0.542355 -1.130391  0.468369 -0.998843  0.550265   \n",
       "1308 -2.118941 -0.456731 -1.179383 -0.667595 -1.091675 -1.680951  0.895348   \n",
       "\n",
       "             7  Labels  \n",
       "0     0.437954       0  \n",
       "1     1.718011       1  \n",
       "2     0.147370       0  \n",
       "3     0.007314       0  \n",
       "4     0.641809       1  \n",
       "...        ...     ...  \n",
       "1304  0.361044       0  \n",
       "1305  0.062784       2  \n",
       "1306 -1.039349       3  \n",
       "1307  0.041131       2  \n",
       "1308  0.496857       0  \n",
       "\n",
       "[1309 rows x 9 columns]"
      ]
     },
     "execution_count": 15,
     "metadata": {},
     "output_type": "execute_result"
    }
   ],
   "source": [
    "pd.concat([data, df], axis=1)"
   ]
  },
  {
   "cell_type": "markdown",
   "id": "4fbf7a3f",
   "metadata": {},
   "source": [
    "# <span style=\"color:red\">++++++++++++++++++++++Ayad++++++++++++++++++++++</span>"
   ]
  }
 ],
 "metadata": {
  "kernelspec": {
   "display_name": "Python 3 (ipykernel)",
   "language": "python",
   "name": "python3"
  },
  "language_info": {
   "codemirror_mode": {
    "name": "ipython",
    "version": 3
   },
   "file_extension": ".py",
   "mimetype": "text/x-python",
   "name": "python",
   "nbconvert_exporter": "python",
   "pygments_lexer": "ipython3",
   "version": "3.9.7"
  }
 },
 "nbformat": 4,
 "nbformat_minor": 5
}
